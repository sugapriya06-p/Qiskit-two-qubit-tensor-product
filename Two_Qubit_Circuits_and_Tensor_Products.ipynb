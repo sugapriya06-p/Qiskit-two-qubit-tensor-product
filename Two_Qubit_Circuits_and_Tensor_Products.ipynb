{
  "cells": [
    {
      "cell_type": "code",
      "source": [
        "!pip install qiskit\n",
        "!pip install qiskit qiskit-aer\n",
        "!pip install qiskit qiskit-aer --quiet\n",
        "!pip install pylatexenc"
      ],
      "metadata": {
        "colab": {
          "base_uri": "https://localhost:8080/"
        },
        "id": "DbRxo_Xly4WC",
        "outputId": "6b419a1b-c94d-49f9-e431-e3cb1dc1b11d"
      },
      "id": "DbRxo_Xly4WC",
      "execution_count": 10,
      "outputs": [
        {
          "output_type": "stream",
          "name": "stdout",
          "text": [
            "Requirement already satisfied: qiskit in /usr/local/lib/python3.12/dist-packages (2.2.2)\n",
            "Requirement already satisfied: rustworkx>=0.15.0 in /usr/local/lib/python3.12/dist-packages (from qiskit) (0.17.1)\n",
            "Requirement already satisfied: numpy<3,>=1.17 in /usr/local/lib/python3.12/dist-packages (from qiskit) (2.0.2)\n",
            "Requirement already satisfied: scipy>=1.5 in /usr/local/lib/python3.12/dist-packages (from qiskit) (1.16.2)\n",
            "Requirement already satisfied: dill>=0.3 in /usr/local/lib/python3.12/dist-packages (from qiskit) (0.3.8)\n",
            "Requirement already satisfied: stevedore>=3.0.0 in /usr/local/lib/python3.12/dist-packages (from qiskit) (5.5.0)\n",
            "Requirement already satisfied: typing-extensions in /usr/local/lib/python3.12/dist-packages (from qiskit) (4.15.0)\n",
            "Requirement already satisfied: qiskit in /usr/local/lib/python3.12/dist-packages (2.2.2)\n",
            "Requirement already satisfied: qiskit-aer in /usr/local/lib/python3.12/dist-packages (0.17.2)\n",
            "Requirement already satisfied: rustworkx>=0.15.0 in /usr/local/lib/python3.12/dist-packages (from qiskit) (0.17.1)\n",
            "Requirement already satisfied: numpy<3,>=1.17 in /usr/local/lib/python3.12/dist-packages (from qiskit) (2.0.2)\n",
            "Requirement already satisfied: scipy>=1.5 in /usr/local/lib/python3.12/dist-packages (from qiskit) (1.16.2)\n",
            "Requirement already satisfied: dill>=0.3 in /usr/local/lib/python3.12/dist-packages (from qiskit) (0.3.8)\n",
            "Requirement already satisfied: stevedore>=3.0.0 in /usr/local/lib/python3.12/dist-packages (from qiskit) (5.5.0)\n",
            "Requirement already satisfied: typing-extensions in /usr/local/lib/python3.12/dist-packages (from qiskit) (4.15.0)\n",
            "Requirement already satisfied: psutil>=5 in /usr/local/lib/python3.12/dist-packages (from qiskit-aer) (5.9.5)\n",
            "Requirement already satisfied: python-dateutil>=2.8.0 in /usr/local/lib/python3.12/dist-packages (from qiskit-aer) (2.9.0.post0)\n",
            "Requirement already satisfied: six>=1.5 in /usr/local/lib/python3.12/dist-packages (from python-dateutil>=2.8.0->qiskit-aer) (1.17.0)\n",
            "Requirement already satisfied: pylatexenc in /usr/local/lib/python3.12/dist-packages (2.10)\n"
          ]
        }
      ]
    },
    {
      "cell_type": "code",
      "execution_count": 13,
      "id": "bcfe036b",
      "metadata": {
        "id": "bcfe036b"
      },
      "outputs": [],
      "source": [
        "from qiskit import QuantumCircuit\n",
        "from qiskit_aer import Aer\n",
        "from qiskit.visualization import plot_histogram, plot_bloch_multivector\n",
        "from qiskit.quantum_info import Statevector\n",
        "from qiskit_aer import AerSimulator\n",
        "import matplotlib.pyplot as plt"
      ]
    },
    {
      "cell_type": "code",
      "source": [
        "backend = AerSimulator()\n",
        "print(\"Qiskit & Aer Simulator ready.\")"
      ],
      "metadata": {
        "colab": {
          "base_uri": "https://localhost:8080/"
        },
        "id": "a65Inm3sCmUs",
        "outputId": "a270d32b-a67d-4700-e797-1db129a1e418"
      },
      "id": "a65Inm3sCmUs",
      "execution_count": 14,
      "outputs": [
        {
          "output_type": "stream",
          "name": "stdout",
          "text": [
            "Qiskit & Aer Simulator ready.\n"
          ]
        }
      ]
    },
    {
      "cell_type": "code",
      "source": [
        "# ==============================================================\n",
        "# Task 1: Apply Hadamard on BOTH QUBITS\n",
        "# ==============================================================\n",
        "\n",
        "qc = QuantumCircuit(2, 2)  # 2 qubits + 2 classical bits\n",
        "qc.h(0)  # Hadamard on first qubit\n",
        "qc.h(1)  # Hadamard on second qubit\n",
        "\n",
        "qc.draw('mpl')"
      ],
      "metadata": {
        "id": "756nXICn1Bc3",
        "colab": {
          "base_uri": "https://localhost:8080/",
          "height": 255
        },
        "outputId": "276b9d9d-fa91-4568-8e94-d1820e2125a2"
      },
      "id": "756nXICn1Bc3",
      "execution_count": 15,
      "outputs": [
        {
          "output_type": "execute_result",
          "data": {
            "text/plain": [
              "<Figure size 203.683x284.278 with 1 Axes>"
            ],
            "image/png": "[encoded data removed]"
          },
          "metadata": {},
          "execution_count": 15
        }
      ]
    },
    {
      "cell_type": "code",
      "source": [
        "# ==============================================================\n",
        "# Task 2: Swap Qubit Roles — Apply X on SECOND qubit\n",
        "# ==============================================================\n",
        "\n",
        "qc.x(1)  # Flip the second qubit (|0> → |1>)\n",
        "qc.draw('mpl')"
      ],
      "metadata": {
        "colab": {
          "base_uri": "https://localhost:8080/",
          "height": 255
        },
        "id": "eDhUQ9xT1C_o",
        "outputId": "447eb8b9-0a22-4b61-d1af-c0d9d92ad553"
      },
      "id": "eDhUQ9xT1C_o",
      "execution_count": 16,
      "outputs": [
        {
          "output_type": "execute_result",
          "data": {
            "text/plain": [
              "<Figure size 287.294x284.278 with 1 Axes>"
            ],
            "image/png": "[encoded data removed]"
          },
          "metadata": {},
          "execution_count": 16
        }
      ]
    },
    {
      "cell_type": "code",
      "source": [
        "# ==============================================================\n",
        "# Task 3: Add a CNOT Gate (Creates Entanglement)\n",
        "# ==============================================================\n",
        "\n",
        "qc.cx(0, 1)  # Control = qubit 0, Target = qubit 1\n",
        "qc.draw('mpl')"
      ],
      "metadata": {
        "colab": {
          "base_uri": "https://localhost:8080/",
          "height": 255
        },
        "id": "OUsSP6eIC-QF",
        "outputId": "942eb1c6-4987-4bc3-b703-f30d418caad1"
      },
      "id": "OUsSP6eIC-QF",
      "execution_count": 17,
      "outputs": [
        {
          "output_type": "execute_result",
          "data": {
            "text/plain": [
              "<Figure size 370.906x284.278 with 1 Axes>"
            ],
            "image/png": "[encoded data removed]"
          },
          "metadata": {},
          "execution_count": 17
        }
      ]
    },
    {
      "cell_type": "code",
      "source": [
        "# ==============================================================\n",
        "# Task 4: Increase Measurement Shots to 4096\n",
        "# ==============================================================\n",
        "\n",
        "# Add measurement operations\n",
        "qc.measure(0, 0)\n",
        "qc.measure(1, 1)\n",
        "\n",
        "# Run the simulation with 4096 shots\n",
        "job = backend.run(qc, shots=4096)\n",
        "result = job.result()\n",
        "counts = result.get_counts()\n",
        "\n",
        "print(\"\\nMeasurement Results (4096 shots):\\n\", counts)\n",
        "plot_histogram(counts)\n",
        "plt.show()"
      ],
      "metadata": {
        "colab": {
          "base_uri": "https://localhost:8080/"
        },
        "id": "WoXYGAQC1GGU",
        "outputId": "72b19b64-69e3-4347-8d1c-892bdf6ab60c"
      },
      "id": "WoXYGAQC1GGU",
      "execution_count": 18,
      "outputs": [
        {
          "output_type": "stream",
          "name": "stdout",
          "text": [
            "\n",
            "Measurement Results (4096 shots):\n",
            " {'11': 1012, '01': 999, '00': 1065, '10': 1020}\n"
          ]
        }
      ]
    },
    {
      "cell_type": "code",
      "source": [
        "# ==============================================================\n",
        "# Task 5 (Part 1): Visualize Combined State BEFORE Measurement\n",
        "# ==============================================================\n",
        "\n",
        "# Create a copy of the current circuit (without measurement)\n",
        "qc_no_measure = qc.copy()\n",
        "\n",
        "# Ensure we do NOT include measurement ops\n",
        "qc_no_measure.data = [inst for inst in qc_no_measure.data if inst.operation.name != 'measure']\n",
        "\n",
        "# Generate Statevector from the \"unmeasured\" circuit\n",
        "state_before = Statevector.from_instruction(qc_no_measure)\n",
        "\n",
        "print(\"Statevector before measurement:\\n\")\n",
        "print(state_before)\n",
        "\n",
        "# Plot Bloch sphere visualization\n",
        "plot_bloch_multivector(state_before)\n",
        "plt.show()"
      ],
      "metadata": {
        "id": "4THEs7hr1HpE",
        "colab": {
          "base_uri": "https://localhost:8080/"
        },
        "outputId": "94fdfbae-325c-439e-b2d5-99c97eb1842a"
      },
      "id": "4THEs7hr1HpE",
      "execution_count": 20,
      "outputs": [
        {
          "output_type": "stream",
          "name": "stdout",
          "text": [
            "Statevector before measurement:\n",
            "\n",
            "Statevector([0.5+0.j, 0.5+0.j, 0.5+0.j, 0.5+0.j],\n",
            "            dims=(2, 2))\n"
          ]
        }
      ]
    },
    {
      "cell_type": "code",
      "source": [
        "# ==============================================================\n",
        "# Task 5 (Part 2): Observation & Final Circuit Visualization\n",
        "# ==============================================================\n",
        "\n",
        "print(\"\\nFinal Quantum Circuit:\\n\")\n",
        "qc.draw('mpl')"
      ],
      "metadata": {
        "colab": {
          "base_uri": "https://localhost:8080/",
          "height": 307
        },
        "id": "Jt8Ne3kH1Jcc",
        "outputId": "111c2803-87d0-4e14-fd4c-e667c9d6694a"
      },
      "id": "Jt8Ne3kH1Jcc",
      "execution_count": 21,
      "outputs": [
        {
          "output_type": "stream",
          "name": "stdout",
          "text": [
            "\n",
            "Final Quantum Circuit:\n",
            "\n"
          ]
        },
        {
          "output_type": "execute_result",
          "data": {
            "text/plain": [
              "<Figure size 538.128x284.278 with 1 Axes>"
            ],
            "image/png": "[encoded data removed]"
          },
          "metadata": {},
          "execution_count": 21
        }
      ]
    }
  ],
  "metadata": {
    "colab": {
      "provenance": []
    },
    "language_info": {
      "name": "python"
    },
    "kernelspec": {
      "name": "python3",
      "display_name": "Python 3"
    }
  },
  "nbformat": 4,
  "nbformat_minor": 5
}